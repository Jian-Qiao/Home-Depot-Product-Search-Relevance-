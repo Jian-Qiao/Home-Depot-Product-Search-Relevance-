{
 "cells": [
  {
   "cell_type": "code",
   "execution_count": null,
   "metadata": {
    "collapsed": true,
    "scrolled": true
   },
   "outputs": [],
   "source": [
    "import re\n",
    "import nltk\n",
    "import time\n",
    "import pandas as pd\n",
    "import numpy as np\n",
    "import sklearn\n",
    "from nltk import word_tokenize\n",
    "from nltk.tag import pos_tag\n",
    "from nltk.corpus import stopwords\n",
    "from nltk.corpus import wordnet as wn\n",
    "from pattern.en import singularize\n",
    "from sklearn import model_selection\n",
    "from sklearn.feature_extraction.text import CountVectorizer\n",
    "from sklearn.feature_extraction.text import TfidfTransformer\n",
    "stop = stopwords.words('english')"
   ]
  },
  {
   "cell_type": "code",
   "execution_count": null,
   "metadata": {
    "collapsed": true
   },
   "outputs": [],
   "source": [
    "#Import Data\n",
    "train=pd.read_csv('train.csv')\n",
    "test=pd.read_csv('test.csv')\n",
    "attributes=pd.read_csv('attributes.csv')\n",
    "description=pd.read_csv('product_descriptions.csv')"
   ]
  },
  {
   "cell_type": "code",
   "execution_count": null,
   "metadata": {
    "collapsed": true
   },
   "outputs": [],
   "source": [
    "description.index=description['product_uid']\n",
    "description=description.drop('product_uid',axis=1)\n",
    "#Remove Nan\n",
    "attributes=attributes.dropna(how='all')\n",
    "attributes.reset_index(inplace=True)"
   ]
  },
  {
   "cell_type": "code",
   "execution_count": null,
   "metadata": {
    "collapsed": true
   },
   "outputs": [],
   "source": [
    "#spell correcting\n",
    "\n",
    "from collections import Counter\n",
    "\n",
    "def words(text): return re.findall(r'\\w+', text.lower())\n",
    "\n",
    "WORDS = Counter('\\n'.join(s for s in description.as_matrix().flatten()).split())\n",
    "\n",
    "def P(word, N=sum(WORDS.values())): \n",
    "    \"Probability of `word`.\"\n",
    "    return WORDS[word] / N\n",
    "\n",
    "def correction(word): \n",
    "    \"Most probable spelling correction for word.\"\n",
    "    return max(candidates(word), key=P)\n",
    "\n",
    "def candidates(word): \n",
    "    \"Generate possible spelling corrections for word.\"\n",
    "    return (known([word]) or known(edits1(word)) or known(edits2(word)) or [word])\n",
    "\n",
    "def known(words): \n",
    "    \"The subset of `words` that appear in the dictionary of WORDS.\"\n",
    "    return set(w for w in words if w in WORDS)\n",
    "\n",
    "def edits1(word):\n",
    "    \"All edits that are one edit away from `word`.\"\n",
    "    letters    = 'abcdefghijklmnopqrstuvwxyz'\n",
    "    splits     = [(word[:i], word[i:])    for i in range(len(word) + 1)]\n",
    "    deletes    = [L + R[1:]               for L, R in splits if R]\n",
    "    transposes = [L + R[1] + R[0] + R[2:] for L, R in splits if len(R)>1]\n",
    "    replaces   = [L + c + R[1:]           for L, R in splits if R for c in letters]\n",
    "    inserts    = [L + c + R               for L, R in splits for c in letters]\n",
    "    return set(deletes + transposes + replaces + inserts)\n",
    "\n",
    "def edits2(word): \n",
    "    \"All edits that are two edits away from `word`.\"\n",
    "    return (e2 for e1 in edits1(word) for e2 in edits1(e1))"
   ]
  },
  {
   "cell_type": "code",
   "execution_count": null,
   "metadata": {
    "collapsed": true
   },
   "outputs": [],
   "source": []
  },
  {
   "cell_type": "code",
   "execution_count": null,
   "metadata": {
    "collapsed": true
   },
   "outputs": [],
   "source": [
    "stop=stopwords.words('english')\n",
    "def cleaning_text(sentence):\n",
    "    if isinstance(sentence,basestring):\n",
    "        sentence = unicode(sentence,'utf-8', errors='replace')\n",
    "        sentence=sentence.lower()\n",
    "        sentence=re.sub('[^\\w\\s]',' ', sentence) #removes punctuations\n",
    "        sentence=re.sub('_', ' ', sentence) #removes punctuations\n",
    "        sentence=re.sub('\\d+',' ', sentence) #removes digits\n",
    "        cleaned=' '.join([correction(w) for w in sentence.split() if not w in stop]) \n",
    "        cleaned=' '.join([singularize(w) for w in sentence.split() ]) #remove pural\n",
    "        #removes english stopwords\n",
    "        cleaned=' '.join([w for w , pos in pos_tag(cleaned.split()) if (pos == 'NN' or pos=='JJ' or pos=='JJR' or pos=='JJS' )])\n",
    "        #selecting only nouns and adjectives\n",
    "\n",
    "        cleaned=' '.join([w for w in cleaned.split() if not len(w)<=2 ]) \n",
    "        #removes single lettered words and digits\n",
    "        cleaned=cleaned.strip()\n",
    "        return cleaned\n",
    "    else:\n",
    "        return ''"
   ]
  },
  {
   "cell_type": "code",
   "execution_count": null,
   "metadata": {
    "collapsed": true
   },
   "outputs": [],
   "source": [
    "#Bullets_cleaned=Bullets['Bullets'].apply(lambda x: cleaning_text(x))\n",
    "Description_cleaned=description['product_description'].apply(lambda x: cleaning_text(x))\n",
    "\n",
    "pickle.dump(Description_cleaned, open( \"Description_cleaned.p\", \"wb\" ))\n",
    "#Description_cleaned=pickle.load(open( \"Description_cleaned.p\", \"rb\" ))"
   ]
  },
  {
   "cell_type": "code",
   "execution_count": null,
   "metadata": {
    "collapsed": true
   },
   "outputs": [],
   "source": [
    "Description_cleaned.index=description.index"
   ]
  },
  {
   "cell_type": "code",
   "execution_count": null,
   "metadata": {
    "collapsed": true
   },
   "outputs": [],
   "source": [
    "#Search_Term=pd.Series(train.search_term.append(test.search_term))\n",
    "Search_Term=Search_Term.apply(lambda x: cleaning_text(x))\n",
    "pickle.dump(Search_Term,open('Search_Term.p','wb'))\n",
    "#Search_Term=pickle.load(open('Search_Term.p','rb'))"
   ]
  },
  {
   "cell_type": "code",
   "execution_count": 8,
   "metadata": {
    "collapsed": true
   },
   "outputs": [],
   "source": [
    "tf_vectorizer1 = CountVectorizer(max_df=0.95, min_df=2, max_features=200,\n",
    "                                stop_words='english')\n",
    "tf_vectorizer2 = CountVectorizer(max_df=0.95, min_df=2, max_features=100,\n",
    "                                stop_words='english')"
   ]
  },
  {
   "cell_type": "code",
   "execution_count": 9,
   "metadata": {
    "collapsed": true
   },
   "outputs": [],
   "source": [
    "tf1 = tf_vectorizer1.fit_transform(np.array(Description_cleaned.replace(np.nan, '')))\n",
    "tf2 = tf_vectorizer2.fit_transform(np.array(Search_Term.replace(np.nan,'')))\n",
    "TF = TfidfTransformer()"
   ]
  },
  {
   "cell_type": "code",
   "execution_count": 10,
   "metadata": {
    "collapsed": true
   },
   "outputs": [],
   "source": [
    "#tf_idf_Bullets = TF.fit_transform(tf1)\n",
    "tf_idf_Description=TF.fit_transform(tf1)\n",
    "tf_idf_Search_Term= TF.fit_transform(tf2)"
   ]
  },
  {
   "cell_type": "code",
   "execution_count": 11,
   "metadata": {
    "collapsed": true,
    "scrolled": false
   },
   "outputs": [],
   "source": [
    "#Trans_Bullets=pd.DataFrame(tf_idf_Bullets.toarray())\n",
    "#Trans_Bullets.index=Bullets.index\n",
    "Trans_Description=pd.DataFrame(tf_idf_Description.toarray())\n",
    "Trans_Description.index=description.index"
   ]
  },
  {
   "cell_type": "code",
   "execution_count": 12,
   "metadata": {
    "collapsed": true
   },
   "outputs": [],
   "source": [
    "Trans_Search_Term=pd.DataFrame(tf_idf_Search_Term.toarray())"
   ]
  },
  {
   "cell_type": "code",
   "execution_count": 13,
   "metadata": {},
   "outputs": [
    {
     "data": {
      "text/html": [
       "<div style=\"max-height:1000px;max-width:1500px;overflow:auto;\">\n",
       "<table border=\"1\" class=\"dataframe\">\n",
       "  <thead>\n",
       "    <tr style=\"text-align: right;\">\n",
       "      <th></th>\n",
       "      <th>0</th>\n",
       "      <th>1</th>\n",
       "      <th>2</th>\n",
       "      <th>3</th>\n",
       "      <th>4</th>\n",
       "      <th>5</th>\n",
       "      <th>6</th>\n",
       "      <th>7</th>\n",
       "      <th>8</th>\n",
       "      <th>9</th>\n",
       "      <th>10</th>\n",
       "      <th>11</th>\n",
       "      <th>12</th>\n",
       "      <th>13</th>\n",
       "      <th>14</th>\n",
       "      <th>15</th>\n",
       "      <th>16</th>\n",
       "      <th>17</th>\n",
       "      <th>18</th>\n",
       "      <th>19</th>\n",
       "      <th></th>\n",
       "    </tr>\n",
       "    <tr>\n",
       "      <th>product_uid</th>\n",
       "      <th></th>\n",
       "      <th></th>\n",
       "      <th></th>\n",
       "      <th></th>\n",
       "      <th></th>\n",
       "      <th></th>\n",
       "      <th></th>\n",
       "      <th></th>\n",
       "      <th></th>\n",
       "      <th></th>\n",
       "      <th></th>\n",
       "      <th></th>\n",
       "      <th></th>\n",
       "      <th></th>\n",
       "      <th></th>\n",
       "      <th></th>\n",
       "      <th></th>\n",
       "      <th></th>\n",
       "      <th></th>\n",
       "      <th></th>\n",
       "    </tr>\n",
       "  </thead>\n",
       "  <tbody>\n",
       "    <tr>\n",
       "      <th>100001</th>\n",
       "      <td> 0.000000</td>\n",
       "      <td> 0</td>\n",
       "      <td> 0</td>\n",
       "      <td> 0</td>\n",
       "      <td> 0</td>\n",
       "      <td> 0</td>\n",
       "      <td> 0</td>\n",
       "      <td> 0.000000</td>\n",
       "      <td> 0</td>\n",
       "      <td> 0.000000</td>\n",
       "      <td> 0</td>\n",
       "      <td> 0</td>\n",
       "      <td> 0</td>\n",
       "      <td> 0.000000</td>\n",
       "      <td> 0</td>\n",
       "      <td> 0</td>\n",
       "      <td> 0</td>\n",
       "      <td> 0</td>\n",
       "      <td> 0</td>\n",
       "      <td> 0.000000</td>\n",
       "      <td>...</td>\n",
       "    </tr>\n",
       "    <tr>\n",
       "      <th>100002</th>\n",
       "      <td> 0.000000</td>\n",
       "      <td> 0</td>\n",
       "      <td> 0</td>\n",
       "      <td> 0</td>\n",
       "      <td> 0</td>\n",
       "      <td> 0</td>\n",
       "      <td> 0</td>\n",
       "      <td> 0.140434</td>\n",
       "      <td> 0</td>\n",
       "      <td> 0.000000</td>\n",
       "      <td> 0</td>\n",
       "      <td> 0</td>\n",
       "      <td> 0</td>\n",
       "      <td> 0.176037</td>\n",
       "      <td> 0</td>\n",
       "      <td> 0</td>\n",
       "      <td> 0</td>\n",
       "      <td> 0</td>\n",
       "      <td> 0</td>\n",
       "      <td> 0.123788</td>\n",
       "      <td>...</td>\n",
       "    </tr>\n",
       "    <tr>\n",
       "      <th>100003</th>\n",
       "      <td> 0.200641</td>\n",
       "      <td> 0</td>\n",
       "      <td> 0</td>\n",
       "      <td> 0</td>\n",
       "      <td> 0</td>\n",
       "      <td> 0</td>\n",
       "      <td> 0</td>\n",
       "      <td> 0.000000</td>\n",
       "      <td> 0</td>\n",
       "      <td> 0.000000</td>\n",
       "      <td> 0</td>\n",
       "      <td> 0</td>\n",
       "      <td> 0</td>\n",
       "      <td> 0.000000</td>\n",
       "      <td> 0</td>\n",
       "      <td> 0</td>\n",
       "      <td> 0</td>\n",
       "      <td> 0</td>\n",
       "      <td> 0</td>\n",
       "      <td> 0.000000</td>\n",
       "      <td>...</td>\n",
       "    </tr>\n",
       "    <tr>\n",
       "      <th>100004</th>\n",
       "      <td> 0.000000</td>\n",
       "      <td> 0</td>\n",
       "      <td> 0</td>\n",
       "      <td> 0</td>\n",
       "      <td> 0</td>\n",
       "      <td> 0</td>\n",
       "      <td> 0</td>\n",
       "      <td> 0.000000</td>\n",
       "      <td> 0</td>\n",
       "      <td> 0.000000</td>\n",
       "      <td> 0</td>\n",
       "      <td> 0</td>\n",
       "      <td> 0</td>\n",
       "      <td> 0.000000</td>\n",
       "      <td> 0</td>\n",
       "      <td> 0</td>\n",
       "      <td> 0</td>\n",
       "      <td> 0</td>\n",
       "      <td> 0</td>\n",
       "      <td> 0.000000</td>\n",
       "      <td>...</td>\n",
       "    </tr>\n",
       "    <tr>\n",
       "      <th>100005</th>\n",
       "      <td> 0.000000</td>\n",
       "      <td> 0</td>\n",
       "      <td> 0</td>\n",
       "      <td> 0</td>\n",
       "      <td> 0</td>\n",
       "      <td> 0</td>\n",
       "      <td> 0</td>\n",
       "      <td> 0.000000</td>\n",
       "      <td> 0</td>\n",
       "      <td> 0.190483</td>\n",
       "      <td> 0</td>\n",
       "      <td> 0</td>\n",
       "      <td> 0</td>\n",
       "      <td> 0.000000</td>\n",
       "      <td> 0</td>\n",
       "      <td> 0</td>\n",
       "      <td> 0</td>\n",
       "      <td> 0</td>\n",
       "      <td> 0</td>\n",
       "      <td> 0.141314</td>\n",
       "      <td>...</td>\n",
       "    </tr>\n",
       "  </tbody>\n",
       "</table>\n",
       "<p>5 rows × 200 columns</p>\n",
       "</div>"
      ],
      "text/plain": [
       "                   0   1   2   3   4   5   6         7   8         9   10  11  \\\n",
       "product_uid                                                                     \n",
       "100001       0.000000   0   0   0   0   0   0  0.000000   0  0.000000   0   0   \n",
       "100002       0.000000   0   0   0   0   0   0  0.140434   0  0.000000   0   0   \n",
       "100003       0.200641   0   0   0   0   0   0  0.000000   0  0.000000   0   0   \n",
       "100004       0.000000   0   0   0   0   0   0  0.000000   0  0.000000   0   0   \n",
       "100005       0.000000   0   0   0   0   0   0  0.000000   0  0.190483   0   0   \n",
       "\n",
       "             12        13  14  15  16  17  18        19      \n",
       "product_uid                                                  \n",
       "100001        0  0.000000   0   0   0   0   0  0.000000 ...  \n",
       "100002        0  0.176037   0   0   0   0   0  0.123788 ...  \n",
       "100003        0  0.000000   0   0   0   0   0  0.000000 ...  \n",
       "100004        0  0.000000   0   0   0   0   0  0.000000 ...  \n",
       "100005        0  0.000000   0   0   0   0   0  0.141314 ...  \n",
       "\n",
       "[5 rows x 200 columns]"
      ]
     },
     "execution_count": 13,
     "metadata": {},
     "output_type": "execute_result"
    }
   ],
   "source": [
    "#Trans_Bullets.head()\n",
    "Trans_Description.head()"
   ]
  },
  {
   "cell_type": "code",
   "execution_count": 14,
   "metadata": {},
   "outputs": [
    {
     "data": {
      "text/html": [
       "<div style=\"max-height:1000px;max-width:1500px;overflow:auto;\">\n",
       "<table border=\"1\" class=\"dataframe\">\n",
       "  <thead>\n",
       "    <tr style=\"text-align: right;\">\n",
       "      <th></th>\n",
       "      <th>0</th>\n",
       "      <th>1</th>\n",
       "      <th>2</th>\n",
       "      <th>3</th>\n",
       "      <th>4</th>\n",
       "      <th>5</th>\n",
       "      <th>6</th>\n",
       "      <th>7</th>\n",
       "      <th>8</th>\n",
       "      <th>9</th>\n",
       "      <th>10</th>\n",
       "      <th>11</th>\n",
       "      <th>12</th>\n",
       "      <th>13</th>\n",
       "      <th>14</th>\n",
       "      <th>15</th>\n",
       "      <th>16</th>\n",
       "      <th>17</th>\n",
       "      <th>18</th>\n",
       "      <th>19</th>\n",
       "      <th></th>\n",
       "    </tr>\n",
       "  </thead>\n",
       "  <tbody>\n",
       "    <tr>\n",
       "      <th>0</th>\n",
       "      <td> 0</td>\n",
       "      <td> 0</td>\n",
       "      <td> 0</td>\n",
       "      <td> 0</td>\n",
       "      <td> 0</td>\n",
       "      <td> 0</td>\n",
       "      <td> 0</td>\n",
       "      <td> 0</td>\n",
       "      <td> 0</td>\n",
       "      <td> 0</td>\n",
       "      <td> 0</td>\n",
       "      <td> 0</td>\n",
       "      <td> 0</td>\n",
       "      <td> 1</td>\n",
       "      <td> 0</td>\n",
       "      <td> 0</td>\n",
       "      <td> 0</td>\n",
       "      <td> 0</td>\n",
       "      <td> 0</td>\n",
       "      <td> 0</td>\n",
       "      <td>...</td>\n",
       "    </tr>\n",
       "    <tr>\n",
       "      <th>1</th>\n",
       "      <td> 0</td>\n",
       "      <td> 0</td>\n",
       "      <td> 0</td>\n",
       "      <td> 0</td>\n",
       "      <td> 0</td>\n",
       "      <td> 0</td>\n",
       "      <td> 0</td>\n",
       "      <td> 0</td>\n",
       "      <td> 0</td>\n",
       "      <td> 0</td>\n",
       "      <td> 0</td>\n",
       "      <td> 0</td>\n",
       "      <td> 0</td>\n",
       "      <td> 1</td>\n",
       "      <td> 0</td>\n",
       "      <td> 0</td>\n",
       "      <td> 0</td>\n",
       "      <td> 0</td>\n",
       "      <td> 0</td>\n",
       "      <td> 0</td>\n",
       "      <td>...</td>\n",
       "    </tr>\n",
       "    <tr>\n",
       "      <th>2</th>\n",
       "      <td> 0</td>\n",
       "      <td> 0</td>\n",
       "      <td> 0</td>\n",
       "      <td> 0</td>\n",
       "      <td> 0</td>\n",
       "      <td> 0</td>\n",
       "      <td> 0</td>\n",
       "      <td> 0</td>\n",
       "      <td> 0</td>\n",
       "      <td> 0</td>\n",
       "      <td> 0</td>\n",
       "      <td> 0</td>\n",
       "      <td> 0</td>\n",
       "      <td> 0</td>\n",
       "      <td> 0</td>\n",
       "      <td> 0</td>\n",
       "      <td> 0</td>\n",
       "      <td> 0</td>\n",
       "      <td> 0</td>\n",
       "      <td> 0</td>\n",
       "      <td>...</td>\n",
       "    </tr>\n",
       "    <tr>\n",
       "      <th>3</th>\n",
       "      <td> 0</td>\n",
       "      <td> 0</td>\n",
       "      <td> 0</td>\n",
       "      <td> 0</td>\n",
       "      <td> 0</td>\n",
       "      <td> 0</td>\n",
       "      <td> 0</td>\n",
       "      <td> 0</td>\n",
       "      <td> 0</td>\n",
       "      <td> 0</td>\n",
       "      <td> 0</td>\n",
       "      <td> 0</td>\n",
       "      <td> 0</td>\n",
       "      <td> 0</td>\n",
       "      <td> 0</td>\n",
       "      <td> 0</td>\n",
       "      <td> 0</td>\n",
       "      <td> 0</td>\n",
       "      <td> 0</td>\n",
       "      <td> 0</td>\n",
       "      <td>...</td>\n",
       "    </tr>\n",
       "    <tr>\n",
       "      <th>4</th>\n",
       "      <td> 0</td>\n",
       "      <td> 0</td>\n",
       "      <td> 0</td>\n",
       "      <td> 0</td>\n",
       "      <td> 0</td>\n",
       "      <td> 0</td>\n",
       "      <td> 0</td>\n",
       "      <td> 0</td>\n",
       "      <td> 0</td>\n",
       "      <td> 0</td>\n",
       "      <td> 0</td>\n",
       "      <td> 0</td>\n",
       "      <td> 0</td>\n",
       "      <td> 0</td>\n",
       "      <td> 0</td>\n",
       "      <td> 0</td>\n",
       "      <td> 0</td>\n",
       "      <td> 0</td>\n",
       "      <td> 0</td>\n",
       "      <td> 0</td>\n",
       "      <td>...</td>\n",
       "    </tr>\n",
       "  </tbody>\n",
       "</table>\n",
       "<p>5 rows × 100 columns</p>\n",
       "</div>"
      ],
      "text/plain": [
       "   0   1   2   3   4   5   6   7   8   9   10  11  12  13  14  15  16  17  18  \\\n",
       "0   0   0   0   0   0   0   0   0   0   0   0   0   0   1   0   0   0   0   0   \n",
       "1   0   0   0   0   0   0   0   0   0   0   0   0   0   1   0   0   0   0   0   \n",
       "2   0   0   0   0   0   0   0   0   0   0   0   0   0   0   0   0   0   0   0   \n",
       "3   0   0   0   0   0   0   0   0   0   0   0   0   0   0   0   0   0   0   0   \n",
       "4   0   0   0   0   0   0   0   0   0   0   0   0   0   0   0   0   0   0   0   \n",
       "\n",
       "   19      \n",
       "0   0 ...  \n",
       "1   0 ...  \n",
       "2   0 ...  \n",
       "3   0 ...  \n",
       "4   0 ...  \n",
       "\n",
       "[5 rows x 100 columns]"
      ]
     },
     "execution_count": 14,
     "metadata": {},
     "output_type": "execute_result"
    }
   ],
   "source": [
    "Trans_Search_Term.head()"
   ]
  },
  {
   "cell_type": "code",
   "execution_count": 15,
   "metadata": {
    "collapsed": true
   },
   "outputs": [],
   "source": [
    "import xgboost as xgb"
   ]
  },
  {
   "cell_type": "code",
   "execution_count": 16,
   "metadata": {
    "collapsed": true
   },
   "outputs": [],
   "source": [
    "train.index=train['product_uid']\n",
    "Trans_Search_Term=Trans_Search_Term[0:len(train)]\n",
    "Trans_Search_Term.index=train['product_uid']\n",
    "Trans_Search_Term['relevance']=train['relevance']"
   ]
  },
  {
   "cell_type": "code",
   "execution_count": 17,
   "metadata": {
    "collapsed": true
   },
   "outputs": [],
   "source": [
    "#train_vec=pd.merge(Trans_Bullets,Trans_Search_Term,left_index=True,right_index=True)\n",
    "train_vec=pd.merge(Trans_Description,Trans_Search_Term,left_index=True,right_index=True)"
   ]
  },
  {
   "cell_type": "code",
   "execution_count": 18,
   "metadata": {
    "collapsed": true,
    "scrolled": true
   },
   "outputs": [],
   "source": [
    "Relevance=train_vec['relevance']\n",
    "train_vec=train_vec.drop(['relevance'],axis=1)"
   ]
  },
  {
   "cell_type": "code",
   "execution_count": 49,
   "metadata": {
    "collapsed": true
   },
   "outputs": [],
   "source": [
    "param={}\n",
    "param['eta']=0.01\n",
    "param['max_depth']=6\n",
    "param['silent']=1\n",
    "param['eval_metric']='rmse'\n",
    "param['min_child_weight']=3\n",
    "param['subsample']=0.7\n",
    "param['colsample_bytree']=0.7\n",
    "num_rounds=50000"
   ]
  },
  {
   "cell_type": "code",
   "execution_count": 37,
   "metadata": {
    "collapsed": true
   },
   "outputs": [],
   "source": [
    "train_vec=train_vec.reset_index().drop('product_uid',axis=1)\n",
    "\n",
    "Relevance=Relevance.reset_index().drop('product_uid',axis=1)"
   ]
  },
  {
   "cell_type": "code",
   "execution_count": 60,
   "metadata": {
    "collapsed": true,
    "scrolled": true
   },
   "outputs": [],
   "source": [
    "start_ = time.time()\n",
    "\n",
    "#x_train = np.array(train_vec.iloc[0:50000])\n",
    "#y_train = np.array(Relevance.iloc[0:50000])\n",
    "\n",
    "#x_validation = np.array(train_vec.iloc[50000:])\n",
    "#y_validation = np.array(Relevance.iloc[50000:])\n",
    "x_train, x_validation, y_train, y_validation=model_selection.train_test_split(train_vec,Relevance,test_size=0.3)\n",
    "\n",
    "xgtrain = xgb.DMatrix(x_train, label= y_train)\n",
    "xgvalidation=xgb.DMatrix(x_validation,label=y_validation)"
   ]
  },
  {
   "cell_type": "code",
   "execution_count": 63,
   "metadata": {},
   "outputs": [
    {
     "name": "stdout",
     "output_type": "stream",
     "text": [
      "[0]\teval-rmse:1.94156\ttrain-rmse:1.93625\n",
      "[100]\teval-rmse:0.865859\ttrain-rmse:0.863035\n",
      "[200]\teval-rmse:0.583134\ttrain-rmse:0.581838\n",
      "[300]\teval-rmse:0.531763\ttrain-rmse:0.530081\n",
      "[400]\teval-rmse:0.523276\ttrain-rmse:0.520355\n",
      "[500]\teval-rmse:0.52133\ttrain-rmse:0.516668\n",
      "[600]\teval-rmse:0.520428\ttrain-rmse:0.514026\n",
      "[700]\teval-rmse:0.519736\ttrain-rmse:0.511615\n",
      "[800]\teval-rmse:0.519148\ttrain-rmse:0.509473\n",
      "[900]\teval-rmse:0.518678\ttrain-rmse:0.507393\n",
      "[1000]\teval-rmse:0.518243\ttrain-rmse:0.505427\n",
      "[1100]\teval-rmse:0.517871\ttrain-rmse:0.503659\n",
      "[1200]\teval-rmse:0.517487\ttrain-rmse:0.501803\n",
      "[1300]\teval-rmse:0.517177\ttrain-rmse:0.500047\n",
      "[1400]\teval-rmse:0.516874\ttrain-rmse:0.498383\n",
      "[1500]\teval-rmse:0.516589\ttrain-rmse:0.496676\n",
      "[1600]\teval-rmse:0.516348\ttrain-rmse:0.495065\n",
      "[1700]\teval-rmse:0.516106\ttrain-rmse:0.493462\n",
      "[1800]\teval-rmse:0.515908\ttrain-rmse:0.491982\n",
      "[1900]\teval-rmse:0.515686\ttrain-rmse:0.490421\n",
      "[2000]\teval-rmse:0.515501\ttrain-rmse:0.488972\n",
      "[2100]\teval-rmse:0.515294\ttrain-rmse:0.487504\n",
      "[2200]\teval-rmse:0.515123\ttrain-rmse:0.486035\n",
      "[2300]\teval-rmse:0.514944\ttrain-rmse:0.484612\n",
      "[2400]\teval-rmse:0.514818\ttrain-rmse:0.483315\n",
      "[2500]\teval-rmse:0.514733\ttrain-rmse:0.482029\n",
      "[2600]\teval-rmse:0.514544\ttrain-rmse:0.480654\n",
      "[2700]\teval-rmse:0.51439\ttrain-rmse:0.479287\n",
      "[2800]\teval-rmse:0.514269\ttrain-rmse:0.477904\n",
      "[2900]\teval-rmse:0.514188\ttrain-rmse:0.476626\n",
      "[3000]\teval-rmse:0.514146\ttrain-rmse:0.475411\n",
      "[3100]\teval-rmse:0.514052\ttrain-rmse:0.474115\n",
      "[3200]\teval-rmse:0.513945\ttrain-rmse:0.47282\n",
      "[3300]\teval-rmse:0.513833\ttrain-rmse:0.471659\n",
      "[3400]\teval-rmse:0.513797\ttrain-rmse:0.470457\n",
      "[3500]\teval-rmse:0.513714\ttrain-rmse:0.469266\n",
      "[3600]\teval-rmse:0.513651\ttrain-rmse:0.468051\n",
      "[3700]\teval-rmse:0.513612\ttrain-rmse:0.466833\n",
      "[3800]\teval-rmse:0.513555\ttrain-rmse:0.465647\n",
      "[3900]\teval-rmse:0.513525\ttrain-rmse:0.464482\n",
      "[4000]\teval-rmse:0.513473\ttrain-rmse:0.463312\n",
      "[4100]\teval-rmse:0.513427\ttrain-rmse:0.462167\n",
      "[4200]\teval-rmse:0.513402\ttrain-rmse:0.461082\n",
      "[4300]\teval-rmse:0.513351\ttrain-rmse:0.459911\n",
      "[4400]\teval-rmse:0.513321\ttrain-rmse:0.458774\n",
      "[4500]\teval-rmse:0.513274\ttrain-rmse:0.457642\n",
      "[4600]\teval-rmse:0.513257\ttrain-rmse:0.45652\n",
      "[4700]\teval-rmse:0.513205\ttrain-rmse:0.455381\n",
      "[4800]\teval-rmse:0.513148\ttrain-rmse:0.454362\n",
      "[4900]\teval-rmse:0.513115\ttrain-rmse:0.453314\n",
      "[4999]\teval-rmse:0.513112\ttrain-rmse:0.452202\n"
     ]
    }
   ],
   "source": [
    "clf = xgb.train(param, xgtrain, num_rounds,evals=[ (xgtrain,'train'),(xgvalidation,'eval')],\n",
    "                early_stopping_rounds=100, verbose_eval =100)"
   ]
  },
  {
   "cell_type": "code",
   "execution_count": 64,
   "metadata": {},
   "outputs": [
    {
     "name": "stdout",
     "output_type": "stream",
     "text": [
      "Time elapsed: 2805.84 seconds\n"
     ]
    }
   ],
   "source": [
    "xgvalidation = xgb.DMatrix(x_validation)\n",
    "y_prob = clf.predict(xgvalidation)\n",
    "\n",
    "print 'Time elapsed: %.2f seconds' % (time.time() - start_)"
   ]
  }
 ],
 "metadata": {
  "anaconda-cloud": {},
  "kernelspec": {
   "display_name": "Python 2",
   "language": "python",
   "name": "python2"
  },
  "language_info": {
   "codemirror_mode": {
    "name": "ipython",
    "version": 2
   },
   "file_extension": ".py",
   "mimetype": "text/x-python",
   "name": "python",
   "nbconvert_exporter": "python",
   "pygments_lexer": "ipython2",
   "version": "2.7.6"
  }
 },
 "nbformat": 4,
 "nbformat_minor": 1
}
